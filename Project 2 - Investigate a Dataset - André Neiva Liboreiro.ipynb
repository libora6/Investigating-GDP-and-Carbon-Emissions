{
 "cells": [
  {
   "cell_type": "markdown",
   "metadata": {},
   "source": [
    "# Countries with the best $Green$ $Economy$ $Index$ and the relationship between CO² emissions, agricultural land size, population density and exportation\n",
    "\n",
    "## Table of Contents\n",
    "<ul>\n",
    "<li><a href=\"#intro\">1. Introduction</a></li>\n",
    "<li><a href=\"#wrangling\">2. Data Wrangling</a></li>\n",
    "<li><a href=\"#eda\">3. Exploratory Data Analysis</a></li>\n",
    "<li><a href=\"#conclusions\">4. Conclusions</a></li>\n",
    "</ul>"
   ]
  },
  {
   "cell_type": "markdown",
   "metadata": {},
   "source": [
    "<a id='intro'></a>\n",
    "## 1. Introduction\n",
    "\n",
    "> Economic growth has been always the header of politicians speechs. Recently, its impact on natural resources has taken important part of leading economy meetings and also on the social media exposure.\n",
    "> \n",
    "> The purpose of this data analysis is to identify countries on the globe that have being thriving combining economic growth with the least environmental impact.\n",
    ">\n",
    "> Based on the [CO² emissions - tonnes per person](https://cdiac.ess-dive.lbl.gov/) and the [Income per person - GDP/capita, PPP$ inflation-adjusted](http://gapm.io/dgdppc) datasets, I calculated the **Total Differency CO² Emissions Per Person** and the **Total Differency Income Per Person**, between 1958 and 2014, for 190 countries around the globe.\n",
    ">\n",
    "> CO² emissions represents the Carbon Dioxide emissions from the burning of fossil fuels (metric tonnes of CO² per person)\n",
    "> \n",
    "> Income per person (PPP GDP) is gross domestic product converted to international dollars using purchasing power parity \n",
    "> rates. \n",
    "> An international dollar has the same purchasing power over GDP as the U.S. dollar has in the United States. \n",
    "> GDP at purchaser's prices is the sum of gross value added by all resident producers in the economy plus \n",
    "> any product taxes and minus any subsidies not included in the value of the products. \n",
    "> It is calculated without making deductions for depreciation of fabricated assets or for depletion and degradation \n",
    "> of natural resources.\n",
    ">\n",
    "> The outcomes were used to calculate the **Green Economy Index**, as explained below:"
   ]
  },
  {
   "cell_type": "markdown",
   "metadata": {},
   "source": [
    ">$Green$ $Economy$ $Index$ $=$ $CO2$ green_score $+$ $GDP$ green_score"
   ]
  },
  {
   "cell_type": "markdown",
   "metadata": {},
   "source": [
    ">The higher the result, the higher is the Green Economy Index, as explained below on the examples:\n",
    ">\n",
    ">**Green Economy Index = 8** = **Very low CO2 (4)** + **Very high GDP (4)** \n",
    ">\n",
    ">**Green Economy Index = 6** = **Low CO2 (3)** + **High GDP (3)** \n",
    ">\n",
    ">**Green Economy Index = 4** = **High CO2 (2)** + **Low GDP (2)** \n",
    ">\n",
    ">**Green Economy Index = 2** = **Very high CO2 (1)** + **Very low GDP (1)** "
   ]
  },
  {
   "cell_type": "markdown",
   "metadata": {},
   "source": [
    "> Later, the [Agricultural land](https://data.worldbank.org/indicator/AG.LND.AGRI.ZS), [Population density](https://population.un.org/wpp/), and [Exports](https://data.worldbank.org/indicator/NE.EXP.GNFS.ZS) datasets were added to the analysis to verify their correlation with CO² emissions."
   ]
  },
  {
   "cell_type": "markdown",
   "metadata": {},
   "source": [
    "<a id='wrangling'></a>\n",
    "## 2. Data Wrangling\n",
    "\n",
    "\n",
    "### General Properties"
   ]
  },
  {
   "cell_type": "markdown",
   "metadata": {},
   "source": [
    "**2.1.** Importing Python packages and data sources"
   ]
  },
  {
   "cell_type": "code",
   "execution_count": 717,
   "metadata": {},
   "outputs": [],
   "source": [
    "import pandas as pd\n",
    "import numpy as np\n",
    "import matplotlib.pyplot as plt\n",
    "%matplotlib inline\n",
    "\n",
    "df_CO2 = pd.read_csv('co2_emissions_tonnes_per_person.csv')\n",
    "df_GDP = pd.read_csv('income_per_person_gdppercapita_ppp_inflation_adjusted.csv')\n",
    "df_agri = pd.read_csv('agricultural_land_percent_of_land_area.csv')\n",
    "df_pop = pd.read_csv('population_density_per_square_km.csv')\n",
    "df_expo = pd.read_csv('exports_percent_of_gdp.csv')"
   ]
  },
  {
   "cell_type": "markdown",
   "metadata": {},
   "source": [
    "**2.2.** Checking the dataframes content and Null values"
   ]
  },
  {
   "cell_type": "code",
   "execution_count": 718,
   "metadata": {},
   "outputs": [
    {
     "data": {
      "text/html": [
       "<div>\n",
       "<style scoped>\n",
       "    .dataframe tbody tr th:only-of-type {\n",
       "        vertical-align: middle;\n",
       "    }\n",
       "\n",
       "    .dataframe tbody tr th {\n",
       "        vertical-align: top;\n",
       "    }\n",
       "\n",
       "    .dataframe thead th {\n",
       "        text-align: right;\n",
       "    }\n",
       "</style>\n",
       "<table border=\"1\" class=\"dataframe\">\n",
       "  <thead>\n",
       "    <tr style=\"text-align: right;\">\n",
       "      <th></th>\n",
       "      <th>country</th>\n",
       "      <th>1800</th>\n",
       "      <th>1801</th>\n",
       "      <th>1802</th>\n",
       "      <th>1803</th>\n",
       "      <th>1804</th>\n",
       "      <th>1805</th>\n",
       "      <th>1806</th>\n",
       "      <th>1807</th>\n",
       "      <th>1808</th>\n",
       "      <th>...</th>\n",
       "      <th>2005</th>\n",
       "      <th>2006</th>\n",
       "      <th>2007</th>\n",
       "      <th>2008</th>\n",
       "      <th>2009</th>\n",
       "      <th>2010</th>\n",
       "      <th>2011</th>\n",
       "      <th>2012</th>\n",
       "      <th>2013</th>\n",
       "      <th>2014</th>\n",
       "    </tr>\n",
       "  </thead>\n",
       "  <tbody>\n",
       "    <tr>\n",
       "      <th>0</th>\n",
       "      <td>Afghanistan</td>\n",
       "      <td>NaN</td>\n",
       "      <td>NaN</td>\n",
       "      <td>NaN</td>\n",
       "      <td>NaN</td>\n",
       "      <td>NaN</td>\n",
       "      <td>NaN</td>\n",
       "      <td>NaN</td>\n",
       "      <td>NaN</td>\n",
       "      <td>NaN</td>\n",
       "      <td>...</td>\n",
       "      <td>0.0529</td>\n",
       "      <td>0.0637</td>\n",
       "      <td>0.0854</td>\n",
       "      <td>0.154</td>\n",
       "      <td>0.242</td>\n",
       "      <td>0.294</td>\n",
       "      <td>0.412</td>\n",
       "      <td>0.35</td>\n",
       "      <td>0.316</td>\n",
       "      <td>0.299</td>\n",
       "    </tr>\n",
       "    <tr>\n",
       "      <th>1</th>\n",
       "      <td>Albania</td>\n",
       "      <td>NaN</td>\n",
       "      <td>NaN</td>\n",
       "      <td>NaN</td>\n",
       "      <td>NaN</td>\n",
       "      <td>NaN</td>\n",
       "      <td>NaN</td>\n",
       "      <td>NaN</td>\n",
       "      <td>NaN</td>\n",
       "      <td>NaN</td>\n",
       "      <td>...</td>\n",
       "      <td>1.3800</td>\n",
       "      <td>1.2800</td>\n",
       "      <td>1.3000</td>\n",
       "      <td>1.460</td>\n",
       "      <td>1.480</td>\n",
       "      <td>1.560</td>\n",
       "      <td>1.790</td>\n",
       "      <td>1.68</td>\n",
       "      <td>1.730</td>\n",
       "      <td>1.960</td>\n",
       "    </tr>\n",
       "    <tr>\n",
       "      <th>2</th>\n",
       "      <td>Algeria</td>\n",
       "      <td>NaN</td>\n",
       "      <td>NaN</td>\n",
       "      <td>NaN</td>\n",
       "      <td>NaN</td>\n",
       "      <td>NaN</td>\n",
       "      <td>NaN</td>\n",
       "      <td>NaN</td>\n",
       "      <td>NaN</td>\n",
       "      <td>NaN</td>\n",
       "      <td>...</td>\n",
       "      <td>3.2200</td>\n",
       "      <td>2.9900</td>\n",
       "      <td>3.1900</td>\n",
       "      <td>3.160</td>\n",
       "      <td>3.420</td>\n",
       "      <td>3.300</td>\n",
       "      <td>3.290</td>\n",
       "      <td>3.46</td>\n",
       "      <td>3.510</td>\n",
       "      <td>3.720</td>\n",
       "    </tr>\n",
       "  </tbody>\n",
       "</table>\n",
       "<p>3 rows × 216 columns</p>\n",
       "</div>"
      ],
      "text/plain": [
       "       country  1800  1801  1802  1803  1804  1805  1806  1807  1808  ...  \\\n",
       "0  Afghanistan   NaN   NaN   NaN   NaN   NaN   NaN   NaN   NaN   NaN  ...   \n",
       "1      Albania   NaN   NaN   NaN   NaN   NaN   NaN   NaN   NaN   NaN  ...   \n",
       "2      Algeria   NaN   NaN   NaN   NaN   NaN   NaN   NaN   NaN   NaN  ...   \n",
       "\n",
       "     2005    2006    2007   2008   2009   2010   2011  2012   2013   2014  \n",
       "0  0.0529  0.0637  0.0854  0.154  0.242  0.294  0.412  0.35  0.316  0.299  \n",
       "1  1.3800  1.2800  1.3000  1.460  1.480  1.560  1.790  1.68  1.730  1.960  \n",
       "2  3.2200  2.9900  3.1900  3.160  3.420  3.300  3.290  3.46  3.510  3.720  \n",
       "\n",
       "[3 rows x 216 columns]"
      ]
     },
     "execution_count": 718,
     "metadata": {},
     "output_type": "execute_result"
    }
   ],
   "source": [
    "# Checking ´df_CO2´content\n",
    "df_CO2.head(3)"
   ]
  },
  {
   "cell_type": "code",
   "execution_count": 719,
   "metadata": {},
   "outputs": [
    {
     "data": {
      "text/html": [
       "<div>\n",
       "<style scoped>\n",
       "    .dataframe tbody tr th:only-of-type {\n",
       "        vertical-align: middle;\n",
       "    }\n",
       "\n",
       "    .dataframe tbody tr th {\n",
       "        vertical-align: top;\n",
       "    }\n",
       "\n",
       "    .dataframe thead th {\n",
       "        text-align: right;\n",
       "    }\n",
       "</style>\n",
       "<table border=\"1\" class=\"dataframe\">\n",
       "  <thead>\n",
       "    <tr style=\"text-align: right;\">\n",
       "      <th></th>\n",
       "      <th>country</th>\n",
       "      <th>1800</th>\n",
       "      <th>1801</th>\n",
       "      <th>1802</th>\n",
       "      <th>1803</th>\n",
       "      <th>1804</th>\n",
       "      <th>1805</th>\n",
       "      <th>1806</th>\n",
       "      <th>1807</th>\n",
       "      <th>1808</th>\n",
       "      <th>...</th>\n",
       "      <th>2005</th>\n",
       "      <th>2006</th>\n",
       "      <th>2007</th>\n",
       "      <th>2008</th>\n",
       "      <th>2009</th>\n",
       "      <th>2010</th>\n",
       "      <th>2011</th>\n",
       "      <th>2012</th>\n",
       "      <th>2013</th>\n",
       "      <th>2014</th>\n",
       "    </tr>\n",
       "  </thead>\n",
       "  <tbody>\n",
       "    <tr>\n",
       "      <th>0</th>\n",
       "      <td>0</td>\n",
       "      <td>187</td>\n",
       "      <td>187</td>\n",
       "      <td>185</td>\n",
       "      <td>187</td>\n",
       "      <td>186</td>\n",
       "      <td>187</td>\n",
       "      <td>187</td>\n",
       "      <td>186</td>\n",
       "      <td>187</td>\n",
       "      <td>...</td>\n",
       "      <td>2</td>\n",
       "      <td>2</td>\n",
       "      <td>1</td>\n",
       "      <td>1</td>\n",
       "      <td>1</td>\n",
       "      <td>1</td>\n",
       "      <td>1</td>\n",
       "      <td>0</td>\n",
       "      <td>0</td>\n",
       "      <td>0</td>\n",
       "    </tr>\n",
       "  </tbody>\n",
       "</table>\n",
       "<p>1 rows × 216 columns</p>\n",
       "</div>"
      ],
      "text/plain": [
       "   country  1800  1801  1802  1803  1804  1805  1806  1807  1808  ...  2005  \\\n",
       "0        0   187   187   185   187   186   187   187   186   187  ...     2   \n",
       "\n",
       "   2006  2007  2008  2009  2010  2011  2012  2013  2014  \n",
       "0     2     1     1     1     1     1     0     0     0  \n",
       "\n",
       "[1 rows x 216 columns]"
      ]
     },
     "execution_count": 719,
     "metadata": {},
     "output_type": "execute_result"
    }
   ],
   "source": [
    "# Creating a 'df_CO2' dataframe to see the number of Null values on each column\n",
    "df = df_CO2.isna().sum()\n",
    "df.to_frame().transpose()"
   ]
  },
  {
   "cell_type": "code",
   "execution_count": 720,
   "metadata": {},
   "outputs": [
    {
     "data": {
      "text/html": [
       "<div>\n",
       "<style scoped>\n",
       "    .dataframe tbody tr th:only-of-type {\n",
       "        vertical-align: middle;\n",
       "    }\n",
       "\n",
       "    .dataframe tbody tr th {\n",
       "        vertical-align: top;\n",
       "    }\n",
       "\n",
       "    .dataframe thead th {\n",
       "        text-align: right;\n",
       "    }\n",
       "</style>\n",
       "<table border=\"1\" class=\"dataframe\">\n",
       "  <thead>\n",
       "    <tr style=\"text-align: right;\">\n",
       "      <th></th>\n",
       "      <th>country</th>\n",
       "      <th>1800</th>\n",
       "      <th>1801</th>\n",
       "      <th>1802</th>\n",
       "      <th>1803</th>\n",
       "      <th>1804</th>\n",
       "      <th>1805</th>\n",
       "      <th>1806</th>\n",
       "      <th>1807</th>\n",
       "      <th>1808</th>\n",
       "      <th>...</th>\n",
       "      <th>2031</th>\n",
       "      <th>2032</th>\n",
       "      <th>2033</th>\n",
       "      <th>2034</th>\n",
       "      <th>2035</th>\n",
       "      <th>2036</th>\n",
       "      <th>2037</th>\n",
       "      <th>2038</th>\n",
       "      <th>2039</th>\n",
       "      <th>2040</th>\n",
       "    </tr>\n",
       "  </thead>\n",
       "  <tbody>\n",
       "    <tr>\n",
       "      <th>0</th>\n",
       "      <td>Afghanistan</td>\n",
       "      <td>603</td>\n",
       "      <td>603</td>\n",
       "      <td>603</td>\n",
       "      <td>603</td>\n",
       "      <td>603</td>\n",
       "      <td>603</td>\n",
       "      <td>603</td>\n",
       "      <td>603</td>\n",
       "      <td>603</td>\n",
       "      <td>...</td>\n",
       "      <td>2420</td>\n",
       "      <td>2470</td>\n",
       "      <td>2520</td>\n",
       "      <td>2580</td>\n",
       "      <td>2640</td>\n",
       "      <td>2700</td>\n",
       "      <td>2760</td>\n",
       "      <td>2820</td>\n",
       "      <td>2880</td>\n",
       "      <td>2940</td>\n",
       "    </tr>\n",
       "    <tr>\n",
       "      <th>1</th>\n",
       "      <td>Albania</td>\n",
       "      <td>667</td>\n",
       "      <td>667</td>\n",
       "      <td>667</td>\n",
       "      <td>667</td>\n",
       "      <td>667</td>\n",
       "      <td>668</td>\n",
       "      <td>668</td>\n",
       "      <td>668</td>\n",
       "      <td>668</td>\n",
       "      <td>...</td>\n",
       "      <td>18500</td>\n",
       "      <td>18900</td>\n",
       "      <td>19300</td>\n",
       "      <td>19700</td>\n",
       "      <td>20200</td>\n",
       "      <td>20600</td>\n",
       "      <td>21100</td>\n",
       "      <td>21500</td>\n",
       "      <td>22000</td>\n",
       "      <td>22500</td>\n",
       "    </tr>\n",
       "    <tr>\n",
       "      <th>2</th>\n",
       "      <td>Algeria</td>\n",
       "      <td>715</td>\n",
       "      <td>716</td>\n",
       "      <td>717</td>\n",
       "      <td>718</td>\n",
       "      <td>719</td>\n",
       "      <td>720</td>\n",
       "      <td>721</td>\n",
       "      <td>722</td>\n",
       "      <td>723</td>\n",
       "      <td>...</td>\n",
       "      <td>15600</td>\n",
       "      <td>15900</td>\n",
       "      <td>16300</td>\n",
       "      <td>16700</td>\n",
       "      <td>17000</td>\n",
       "      <td>17400</td>\n",
       "      <td>17800</td>\n",
       "      <td>18200</td>\n",
       "      <td>18600</td>\n",
       "      <td>19000</td>\n",
       "    </tr>\n",
       "  </tbody>\n",
       "</table>\n",
       "<p>3 rows × 242 columns</p>\n",
       "</div>"
      ],
      "text/plain": [
       "       country  1800  1801  1802  1803  1804  1805  1806  1807  1808  ...  \\\n",
       "0  Afghanistan   603   603   603   603   603   603   603   603   603  ...   \n",
       "1      Albania   667   667   667   667   667   668   668   668   668  ...   \n",
       "2      Algeria   715   716   717   718   719   720   721   722   723  ...   \n",
       "\n",
       "    2031   2032   2033   2034   2035   2036   2037   2038   2039   2040  \n",
       "0   2420   2470   2520   2580   2640   2700   2760   2820   2880   2940  \n",
       "1  18500  18900  19300  19700  20200  20600  21100  21500  22000  22500  \n",
       "2  15600  15900  16300  16700  17000  17400  17800  18200  18600  19000  \n",
       "\n",
       "[3 rows x 242 columns]"
      ]
     },
     "execution_count": 720,
     "metadata": {},
     "output_type": "execute_result"
    }
   ],
   "source": [
    "# Checking ´df_GDP´content\n",
    "df_GDP.head(3)"
   ]
  },
  {
   "cell_type": "code",
   "execution_count": 721,
   "metadata": {},
   "outputs": [
    {
     "data": {
      "text/html": [
       "<div>\n",
       "<style scoped>\n",
       "    .dataframe tbody tr th:only-of-type {\n",
       "        vertical-align: middle;\n",
       "    }\n",
       "\n",
       "    .dataframe tbody tr th {\n",
       "        vertical-align: top;\n",
       "    }\n",
       "\n",
       "    .dataframe thead th {\n",
       "        text-align: right;\n",
       "    }\n",
       "</style>\n",
       "<table border=\"1\" class=\"dataframe\">\n",
       "  <thead>\n",
       "    <tr style=\"text-align: right;\">\n",
       "      <th></th>\n",
       "      <th>country</th>\n",
       "      <th>1800</th>\n",
       "      <th>1801</th>\n",
       "      <th>1802</th>\n",
       "      <th>1803</th>\n",
       "      <th>1804</th>\n",
       "      <th>1805</th>\n",
       "      <th>1806</th>\n",
       "      <th>1807</th>\n",
       "      <th>1808</th>\n",
       "      <th>...</th>\n",
       "      <th>2031</th>\n",
       "      <th>2032</th>\n",
       "      <th>2033</th>\n",
       "      <th>2034</th>\n",
       "      <th>2035</th>\n",
       "      <th>2036</th>\n",
       "      <th>2037</th>\n",
       "      <th>2038</th>\n",
       "      <th>2039</th>\n",
       "      <th>2040</th>\n",
       "    </tr>\n",
       "  </thead>\n",
       "  <tbody>\n",
       "    <tr>\n",
       "      <th>0</th>\n",
       "      <td>0</td>\n",
       "      <td>0</td>\n",
       "      <td>0</td>\n",
       "      <td>0</td>\n",
       "      <td>0</td>\n",
       "      <td>0</td>\n",
       "      <td>0</td>\n",
       "      <td>0</td>\n",
       "      <td>0</td>\n",
       "      <td>0</td>\n",
       "      <td>...</td>\n",
       "      <td>0</td>\n",
       "      <td>0</td>\n",
       "      <td>0</td>\n",
       "      <td>0</td>\n",
       "      <td>0</td>\n",
       "      <td>0</td>\n",
       "      <td>0</td>\n",
       "      <td>0</td>\n",
       "      <td>0</td>\n",
       "      <td>0</td>\n",
       "    </tr>\n",
       "  </tbody>\n",
       "</table>\n",
       "<p>1 rows × 242 columns</p>\n",
       "</div>"
      ],
      "text/plain": [
       "   country  1800  1801  1802  1803  1804  1805  1806  1807  1808  ...  2031  \\\n",
       "0        0     0     0     0     0     0     0     0     0     0  ...     0   \n",
       "\n",
       "   2032  2033  2034  2035  2036  2037  2038  2039  2040  \n",
       "0     0     0     0     0     0     0     0     0     0  \n",
       "\n",
       "[1 rows x 242 columns]"
      ]
     },
     "execution_count": 721,
     "metadata": {},
     "output_type": "execute_result"
    }
   ],
   "source": [
    "# Creating a 'df_GDP' dataframe to see the number of Null values on each column\n",
    "df = df_GDP.isna().sum()\n",
    "df.to_frame().transpose()"
   ]
  },
  {
   "cell_type": "markdown",
   "metadata": {},
   "source": [
    "As we can see, the `df_CO2` dataframe has too many Null values and data series starts from 1800 and ends on 2014, while `df_GDP`dataframe has no Nulls and starts from 1800 and ends on 2040, as it is a projection based on yer 2011. We will work on these Null values and cutting dataframes on the next section."
   ]
  },
  {
   "cell_type": "markdown",
   "metadata": {},
   "source": [
    "### Data Cleaning"
   ]
  },
  {
   "cell_type": "markdown",
   "metadata": {},
   "source": [
    "**2.3.** Creating a function `columns_with_null_perc_under_25` to return a list of column labels that have Null values' percentage below 25%"
   ]
  },
  {
   "cell_type": "code",
   "execution_count": 722,
   "metadata": {},
   "outputs": [],
   "source": [
    "def columns_with_null_perc_under_25(data_frame):\n",
    "    a = round((data_frame.isnull().sum() * 100/ len(data_frame)),2)\n",
    "    a = a.to_frame('null_percentage')\n",
    "    a = a.query('null_percentage < 25.00').transpose().columns\n",
    "    return a"
   ]
  },
  {
   "cell_type": "markdown",
   "metadata": {},
   "source": [
    "> **Function's code explanation:**\n",
    ">\n",
    "> 1) Round the result of the sum of Null values divided by the number of rows in each column\n",
    ">\n",
    "> 2) Convert the Series data into Dataframe creating a label 'null_percentage' for the results found on 1\n",
    ">\n",
    "> 3) Query the null percentage values under 25%, transpose the 'year' values back to columns and list the column labels on the variable to be returned"
   ]
  },
  {
   "cell_type": "markdown",
   "metadata": {},
   "source": [
    "**2.4.** Filtering the dataframes columns based on the list of column labels originated by the `columns_with_null_perc_under_25` and renaming the dataframes new versions."
   ]
  },
  {
   "cell_type": "code",
   "execution_count": 723,
   "metadata": {},
   "outputs": [],
   "source": [
    "# Filtering CO2 dataframe\n",
    "df_CO2_v1 = df_CO2[columns_with_null_perc_under_25(df_CO2)]"
   ]
  },
  {
   "cell_type": "code",
   "execution_count": 724,
   "metadata": {},
   "outputs": [],
   "source": [
    "# Filtering GDP dataframe, even though the dataframe has no Null values\n",
    "df_GDP_v1 = df_GDP[columns_with_null_perc_under_25(df_GDP)]"
   ]
  },
  {
   "cell_type": "code",
   "execution_count": 725,
   "metadata": {},
   "outputs": [],
   "source": [
    "# Filtering Agricultural dataframe\n",
    "df_agri_v1 = df_agri[columns_with_null_perc_under_25(df_agri)]"
   ]
  },
  {
   "cell_type": "code",
   "execution_count": 726,
   "metadata": {},
   "outputs": [],
   "source": [
    "# Filtering Population dataframe\n",
    "df_pop_v1 = df_pop[columns_with_null_perc_under_25(df_pop)]"
   ]
  },
  {
   "cell_type": "code",
   "execution_count": 727,
   "metadata": {},
   "outputs": [],
   "source": [
    "# Filtering Exportation dataframe\n",
    "df_expo_v1 = df_expo[columns_with_null_perc_under_25(df_expo)]"
   ]
  },
  {
   "cell_type": "markdown",
   "metadata": {},
   "source": [
    "**2.5.** As the result from the last code is a data series from 1958 to 2014, I also cut `df_GDP_v1` dataframe so we can have the exactly data series we have on `df_CO2_v1` dataframe"
   ]
  },
  {
   "cell_type": "code",
   "execution_count": 728,
   "metadata": {},
   "outputs": [],
   "source": [
    "# Filtering columns 'country', on index 0, and the data range '1958' to '2014', on indexes 159 and 216, respectively.\n",
    "df_GDP_v2 = df_GDP_v1.iloc[:, np.r_[0, 159:216]]"
   ]
  },
  {
   "cell_type": "markdown",
   "metadata": {},
   "source": [
    "**2.6.** Selecting `country` and `2014`columns from each dataframe, as I will use the 2014 year from each dataframe to make the correlation between CO² emissions, GDP, Agricultural land size, Population density and Exports. '2014' column will be renamed on each dataframe as well."
   ]
  },
  {
   "cell_type": "code",
   "execution_count": 729,
   "metadata": {},
   "outputs": [],
   "source": [
    "# Selecting 'country' and '2014' columns from CO2 dataframe, renaming '2014' afterwards\n",
    "df_correl_CO2 = df_CO2_v1.reset_index()\n",
    "df_correl_CO2 = df_correl_CO2[['country', '2014']]\n",
    "df_correl_CO2 = df_correl_CO2.rename(columns = {'2014':'CO2'})"
   ]
  },
  {
   "cell_type": "code",
   "execution_count": 730,
   "metadata": {},
   "outputs": [],
   "source": [
    "# Selecting 'country' and '2014' columns from GDP dataframe, renaming '2014' afterwards\n",
    "df_correl_GDP = df_GDP_v1[['country', '2014']]\n",
    "df_correl_GDP = df_correl_GDP.rename(columns = {'2014':'GDP'})"
   ]
  },
  {
   "cell_type": "code",
   "execution_count": 731,
   "metadata": {},
   "outputs": [],
   "source": [
    "# Selecting 'country' and '2014' columns from Agricultural dataframe, renaming '2014' afterwards\n",
    "df_correl_agri = df_agri_v1[['country', '2014']]\n",
    "df_correl_agri = df_correl_agri.rename(columns = {'2014':'agric_land_size'})"
   ]
  },
  {
   "cell_type": "code",
   "execution_count": 732,
   "metadata": {},
   "outputs": [],
   "source": [
    "# Selecting 'country' and '2014' columns from Population dataframe, renaming '2014' afterwards\n",
    "df_correl_pop = df_pop_v1[['country', '2014']]\n",
    "df_correl_pop = df_correl_pop.rename(columns = {'2014':'population_density'})"
   ]
  },
  {
   "cell_type": "code",
   "execution_count": 733,
   "metadata": {},
   "outputs": [],
   "source": [
    "# Selecting 'country' and '2014' columns from Exports dataframe, renaming '2014' afterwards\n",
    "df_correl_expo = df_expo_v1[['country', '2014']]\n",
    "df_correl_expo = df_correl_expo.rename(columns = {'2014':'exports_GDP_perc'})"
   ]
  },
  {
   "cell_type": "markdown",
   "metadata": {},
   "source": [
    "**2.7.** Replacing Null values by the mean of each country and storing the new dataframe on `df_CO2_v2` variable"
   ]
  },
  {
   "cell_type": "code",
   "execution_count": 734,
   "metadata": {},
   "outputs": [],
   "source": [
    "# Declaring the Index as the 'country' column, so the transpose() function can work correctly \n",
    "df_CO2_v1.set_index('country',inplace=True)"
   ]
  },
  {
   "cell_type": "code",
   "execution_count": 735,
   "metadata": {},
   "outputs": [],
   "source": [
    "# Transposing the dataframe\n",
    "df_CO2_v1_transposed = df_CO2_v1.transpose()"
   ]
  },
  {
   "cell_type": "code",
   "execution_count": 736,
   "metadata": {},
   "outputs": [],
   "source": [
    "# Replacing the Null values by the mean of each country\n",
    "df_CO2_v1_transposed.fillna(df_CO2_v1_transposed.mean(), inplace=True)"
   ]
  },
  {
   "cell_type": "code",
   "execution_count": 737,
   "metadata": {},
   "outputs": [],
   "source": [
    "# Transpose the dataframe again to get it on the original format  and storing it on 'df_CO2_v2' variable\n",
    "df_CO2_v2 = df_CO2_v1_transposed.transpose()"
   ]
  },
  {
   "cell_type": "code",
   "execution_count": 738,
   "metadata": {},
   "outputs": [
    {
     "data": {
      "text/plain": [
       "False"
      ]
     },
     "execution_count": 738,
     "metadata": {},
     "output_type": "execute_result"
    }
   ],
   "source": [
    "# Checking if there is any remaining Null value\n",
    "df_CO2_v2.isnull().sum().any()"
   ]
  },
  {
   "cell_type": "markdown",
   "metadata": {},
   "source": [
    "<a id='eda'></a>\n",
    "## 3. Exploratory Data Analysis\n",
    "\n",
    "### Which countries have the best $Green$ $Economy$ $Index$?"
   ]
  },
  {
   "cell_type": "markdown",
   "metadata": {},
   "source": [
    ">To be able to answer this question, I followed the steps below:\n",
    ">\n",
    ">**3.1.** Find the Cumulative Yearly Difference on the two dataframes\n",
    ">\n",
    ">**3.2.** Classify the Cumulative Yearly Differences based on the [Percentiles](https://en.wikipedia.org/wiki/Percentile) of each dataframe \n",
    ">\n",
    ">**3.3.** Merging the CO2 and GDP final dataframes\n",
    ">\n",
    ">**3.4.**  Calculating the $Green$ $Economy$ $Index$"
   ]
  },
  {
   "cell_type": "markdown",
   "metadata": {},
   "source": [
    "**3.1.** Calculating the cumulative difference on CO2 and GDP dataframes, droping unnecessary columns and saving the new dataframe on `df_CO2_cum_diff` and `df_GDP_cum_diff` variables"
   ]
  },
  {
   "cell_type": "code",
   "execution_count": 739,
   "metadata": {},
   "outputs": [],
   "source": [
    "# # Calculating the cumulative difference between years for CO2 dataframe\n",
    "df_CO2_cum_diff = df_CO2_v2.diff(axis=1).cumsum(axis=1)"
   ]
  },
  {
   "cell_type": "code",
   "execution_count": 740,
   "metadata": {},
   "outputs": [],
   "source": [
    "# Calculating the cumulative difference between years for GDP dataframe\n",
    "\n",
    "# Before that, setting 'country' as index of the dataframe\n",
    "df_GDP_v2.set_index('country',inplace=True)\n",
    "df_GDP_cum_diff = df_GDP_v2.diff(axis=1).cumsum(axis=1)"
   ]
  },
  {
   "cell_type": "markdown",
   "metadata": {},
   "source": [
    ">**Code explanation:** As I prefered to leave 'country' on row axis, I calculated the difference between 'year' columns on each\n",
    "'country' row, then I calculated the sum of the entire row."
   ]
  },
  {
   "cell_type": "code",
   "execution_count": 741,
   "metadata": {},
   "outputs": [],
   "source": [
    "# Removing the Index from 'country' column on CO2 dataframe\n",
    "df_CO2_cum_diff = df_CO2_cum_diff.reset_index()"
   ]
  },
  {
   "cell_type": "code",
   "execution_count": 742,
   "metadata": {},
   "outputs": [],
   "source": [
    "# Removing the Index from 'country' column on GDP dataframe\n",
    "df_GDP_cum_diff = df_GDP_cum_diff.reset_index()"
   ]
  },
  {
   "cell_type": "code",
   "execution_count": 743,
   "metadata": {},
   "outputs": [],
   "source": [
    "# Dropping no needed columns on CO2 dataframe\n",
    "df_CO2_cum_diff = df_CO2_cum_diff[['country', '2014']]"
   ]
  },
  {
   "cell_type": "code",
   "execution_count": 744,
   "metadata": {},
   "outputs": [],
   "source": [
    "# Dropping no needed columns on GDP dataframe\n",
    "df_GDP_cum_diff = df_GDP_cum_diff[['country', '2014']]"
   ]
  },
  {
   "cell_type": "code",
   "execution_count": 745,
   "metadata": {},
   "outputs": [],
   "source": [
    "# Renaming the column that has the cumulative difference on CO2 dataframe\n",
    "df_CO2_cum_diff = df_CO2_cum_diff.rename(columns={\"2014\": \"CO2_cumul_diff\"})"
   ]
  },
  {
   "cell_type": "code",
   "execution_count": 746,
   "metadata": {},
   "outputs": [],
   "source": [
    "# Renaming the column that has the cumulative difference on GDP dataframe\n",
    "df_GDP_cum_diff = df_GDP_cum_diff.rename(columns={\"2014\": \"GDP_cumul_diff\"})"
   ]
  },
  {
   "cell_type": "markdown",
   "metadata": {},
   "source": [
    "**3.2.** Classifying the countries into Quartiles Q1, Q2, Q3 and Q4 based on CO2 and GDP dataframes"
   ]
  },
  {
   "cell_type": "markdown",
   "metadata": {},
   "source": [
    ">Lets do it first for the cumulative dataframe from CO2 emissions"
   ]
  },
  {
   "cell_type": "code",
   "execution_count": 747,
   "metadata": {},
   "outputs": [],
   "source": [
    "# Calculating the bin edges (min, Q1, Q2, Q3 and max) for each of the four quartile groups on CO2 dataframe\n",
    "tuple_values_CO2 = df_CO2_cum_diff['CO2_cumul_diff'].min(), np.percentile(df_CO2_cum_diff.CO2_cumul_diff, 25), \\\n",
    "np.percentile(df_CO2_cum_diff.CO2_cumul_diff, 50), np.percentile(df_CO2_cum_diff.CO2_cumul_diff, 75), \\\n",
    "df_CO2_cum_diff['CO2_cumul_diff'].max()\n",
    "\n",
    "CO2_bin_edges = list(tuple_values_CO2)"
   ]
  },
  {
   "cell_type": "code",
   "execution_count": 748,
   "metadata": {},
   "outputs": [],
   "source": [
    "# Labels for each of the four quartile groups\n",
    "CO2_bin_labels = ['very_low', 'low', 'high', 'very_high'] "
   ]
  },
  {
   "cell_type": "code",
   "execution_count": 749,
   "metadata": {},
   "outputs": [],
   "source": [
    "# Creating the new dataframe with cumulative CO2 emissions classification\n",
    "df_CO2_cum_diff['CO2_class'] = pd.cut(df_CO2_cum_diff['CO2_cumul_diff'], CO2_bin_edges, labels=CO2_bin_labels, \\\n",
    "                                     include_lowest=True)"
   ]
  },
  {
   "cell_type": "code",
   "execution_count": 750,
   "metadata": {},
   "outputs": [
    {
     "data": {
      "text/html": [
       "<div>\n",
       "<style scoped>\n",
       "    .dataframe tbody tr th:only-of-type {\n",
       "        vertical-align: middle;\n",
       "    }\n",
       "\n",
       "    .dataframe tbody tr th {\n",
       "        vertical-align: top;\n",
       "    }\n",
       "\n",
       "    .dataframe thead th {\n",
       "        text-align: right;\n",
       "    }\n",
       "</style>\n",
       "<table border=\"1\" class=\"dataframe\">\n",
       "  <thead>\n",
       "    <tr style=\"text-align: right;\">\n",
       "      <th></th>\n",
       "      <th>country</th>\n",
       "      <th>CO2_cumul_diff</th>\n",
       "      <th>CO2_class</th>\n",
       "    </tr>\n",
       "  </thead>\n",
       "  <tbody>\n",
       "    <tr>\n",
       "      <th>0</th>\n",
       "      <td>Afghanistan</td>\n",
       "      <td>0.261</td>\n",
       "      <td>low</td>\n",
       "    </tr>\n",
       "    <tr>\n",
       "      <th>1</th>\n",
       "      <td>Albania</td>\n",
       "      <td>1.181</td>\n",
       "      <td>high</td>\n",
       "    </tr>\n",
       "    <tr>\n",
       "      <th>2</th>\n",
       "      <td>Algeria</td>\n",
       "      <td>3.226</td>\n",
       "      <td>very_high</td>\n",
       "    </tr>\n",
       "  </tbody>\n",
       "</table>\n",
       "</div>"
      ],
      "text/plain": [
       "       country  CO2_cumul_diff  CO2_class\n",
       "0  Afghanistan           0.261        low\n",
       "1      Albania           1.181       high\n",
       "2      Algeria           3.226  very_high"
      ]
     },
     "execution_count": 750,
     "metadata": {},
     "output_type": "execute_result"
    }
   ],
   "source": [
    "df_CO2_cum_diff.head(3)"
   ]
  },
  {
   "cell_type": "code",
   "execution_count": 751,
   "metadata": {},
   "outputs": [
    {
     "data": {
      "text/plain": [
       "country           0\n",
       "CO2_cumul_diff    0\n",
       "CO2_class         0\n",
       "dtype: int64"
      ]
     },
     "execution_count": 751,
     "metadata": {},
     "output_type": "execute_result"
    }
   ],
   "source": [
    "# Checking if there is any Null value on the result table\n",
    "df_CO2_cum_diff.isnull().sum()"
   ]
  },
  {
   "cell_type": "code",
   "execution_count": 752,
   "metadata": {},
   "outputs": [
    {
     "data": {
      "text/html": [
       "<div>\n",
       "<style scoped>\n",
       "    .dataframe tbody tr th:only-of-type {\n",
       "        vertical-align: middle;\n",
       "    }\n",
       "\n",
       "    .dataframe tbody tr th {\n",
       "        vertical-align: top;\n",
       "    }\n",
       "\n",
       "    .dataframe thead th {\n",
       "        text-align: right;\n",
       "    }\n",
       "</style>\n",
       "<table border=\"1\" class=\"dataframe\">\n",
       "  <thead>\n",
       "    <tr style=\"text-align: right;\">\n",
       "      <th></th>\n",
       "      <th>country</th>\n",
       "      <th>CO2_cumul_diff</th>\n",
       "      <th>CO2_class</th>\n",
       "    </tr>\n",
       "  </thead>\n",
       "  <tbody>\n",
       "  </tbody>\n",
       "</table>\n",
       "</div>"
      ],
      "text/plain": [
       "Empty DataFrame\n",
       "Columns: [country, CO2_cumul_diff, CO2_class]\n",
       "Index: []"
      ]
     },
     "execution_count": 752,
     "metadata": {},
     "output_type": "execute_result"
    }
   ],
   "source": [
    "# Showing the row with Null value, if there is any \n",
    "df_CO2_cum_diff[df_CO2_cum_diff.isna().any(axis=1)]"
   ]
  },
  {
   "cell_type": "markdown",
   "metadata": {},
   "source": [
    ">Now lets do it for the cumulative dataframe from GDP"
   ]
  },
  {
   "cell_type": "code",
   "execution_count": 753,
   "metadata": {},
   "outputs": [],
   "source": [
    "# Calculating the bin edges (min, Q1, Q2, Q3 and max) for each of the four quartile groups on GDP dataframe\n",
    "tuple_values_GDP = df_GDP_cum_diff['GDP_cumul_diff'].min(), np.percentile(df_GDP_cum_diff.GDP_cumul_diff, 25), \\\n",
    "np.percentile(df_GDP_cum_diff.GDP_cumul_diff, 50), np.percentile(df_GDP_cum_diff.GDP_cumul_diff, 75), \\\n",
    "df_GDP_cum_diff['GDP_cumul_diff'].max()\n",
    "\n",
    "GDP_bin_edges = list(tuple_values_GDP)"
   ]
  },
  {
   "cell_type": "code",
   "execution_count": 754,
   "metadata": {},
   "outputs": [],
   "source": [
    "# Labels for each of the four quartile groups\n",
    "GDP_bin_labels = ['very_low', 'low', 'high', 'very_high'] "
   ]
  },
  {
   "cell_type": "code",
   "execution_count": 755,
   "metadata": {},
   "outputs": [],
   "source": [
    "# Creating the new dataframe with cumulative GDP classification\n",
    "df_GDP_cum_diff['GDP_class'] = pd.cut(df_GDP_cum_diff['GDP_cumul_diff'], GDP_bin_edges, labels=GDP_bin_labels, \\\n",
    "                                     include_lowest=True)"
   ]
  },
  {
   "cell_type": "code",
   "execution_count": 756,
   "metadata": {},
   "outputs": [
    {
     "data": {
      "text/html": [
       "<div>\n",
       "<style scoped>\n",
       "    .dataframe tbody tr th:only-of-type {\n",
       "        vertical-align: middle;\n",
       "    }\n",
       "\n",
       "    .dataframe tbody tr th {\n",
       "        vertical-align: top;\n",
       "    }\n",
       "\n",
       "    .dataframe thead th {\n",
       "        text-align: right;\n",
       "    }\n",
       "</style>\n",
       "<table border=\"1\" class=\"dataframe\">\n",
       "  <thead>\n",
       "    <tr style=\"text-align: right;\">\n",
       "      <th></th>\n",
       "      <th>country</th>\n",
       "      <th>GDP_cumul_diff</th>\n",
       "      <th>GDP_class</th>\n",
       "    </tr>\n",
       "  </thead>\n",
       "  <tbody>\n",
       "    <tr>\n",
       "      <th>0</th>\n",
       "      <td>Afghanistan</td>\n",
       "      <td>600.0</td>\n",
       "      <td>very_low</td>\n",
       "    </tr>\n",
       "    <tr>\n",
       "      <th>1</th>\n",
       "      <td>Albania</td>\n",
       "      <td>8150.0</td>\n",
       "      <td>high</td>\n",
       "    </tr>\n",
       "    <tr>\n",
       "      <th>2</th>\n",
       "      <td>Algeria</td>\n",
       "      <td>8190.0</td>\n",
       "      <td>high</td>\n",
       "    </tr>\n",
       "  </tbody>\n",
       "</table>\n",
       "</div>"
      ],
      "text/plain": [
       "       country  GDP_cumul_diff GDP_class\n",
       "0  Afghanistan           600.0  very_low\n",
       "1      Albania          8150.0      high\n",
       "2      Algeria          8190.0      high"
      ]
     },
     "execution_count": 756,
     "metadata": {},
     "output_type": "execute_result"
    }
   ],
   "source": [
    "df_GDP_cum_diff.head(3)"
   ]
  },
  {
   "cell_type": "code",
   "execution_count": 757,
   "metadata": {},
   "outputs": [
    {
     "data": {
      "text/plain": [
       "country           0\n",
       "GDP_cumul_diff    0\n",
       "GDP_class         0\n",
       "dtype: int64"
      ]
     },
     "execution_count": 757,
     "metadata": {},
     "output_type": "execute_result"
    }
   ],
   "source": [
    "# Checking if there is any Null value on the result table\n",
    "df_GDP_cum_diff.isnull().sum()"
   ]
  },
  {
   "cell_type": "markdown",
   "metadata": {},
   "source": [
    "**3.3.** Merging the CO2 and GDP final dataframes"
   ]
  },
  {
   "cell_type": "code",
   "execution_count": 758,
   "metadata": {},
   "outputs": [],
   "source": [
    "# Merging the two dataframes\n",
    "df_CO2_GDP = df_CO2_cum_diff.merge(df_GDP_cum_diff, left_on='country', right_on='country', how='inner')"
   ]
  },
  {
   "cell_type": "code",
   "execution_count": 759,
   "metadata": {},
   "outputs": [
    {
     "data": {
      "text/html": [
       "<div>\n",
       "<style scoped>\n",
       "    .dataframe tbody tr th:only-of-type {\n",
       "        vertical-align: middle;\n",
       "    }\n",
       "\n",
       "    .dataframe tbody tr th {\n",
       "        vertical-align: top;\n",
       "    }\n",
       "\n",
       "    .dataframe thead th {\n",
       "        text-align: right;\n",
       "    }\n",
       "</style>\n",
       "<table border=\"1\" class=\"dataframe\">\n",
       "  <thead>\n",
       "    <tr style=\"text-align: right;\">\n",
       "      <th></th>\n",
       "      <th>country</th>\n",
       "      <th>CO2_cumul_diff</th>\n",
       "      <th>CO2_class</th>\n",
       "      <th>GDP_cumul_diff</th>\n",
       "      <th>GDP_class</th>\n",
       "    </tr>\n",
       "  </thead>\n",
       "  <tbody>\n",
       "    <tr>\n",
       "      <th>0</th>\n",
       "      <td>Afghanistan</td>\n",
       "      <td>0.261</td>\n",
       "      <td>low</td>\n",
       "      <td>600.0</td>\n",
       "      <td>very_low</td>\n",
       "    </tr>\n",
       "    <tr>\n",
       "      <th>1</th>\n",
       "      <td>Albania</td>\n",
       "      <td>1.181</td>\n",
       "      <td>high</td>\n",
       "      <td>8150.0</td>\n",
       "      <td>high</td>\n",
       "    </tr>\n",
       "    <tr>\n",
       "      <th>2</th>\n",
       "      <td>Algeria</td>\n",
       "      <td>3.226</td>\n",
       "      <td>very_high</td>\n",
       "      <td>8190.0</td>\n",
       "      <td>high</td>\n",
       "    </tr>\n",
       "  </tbody>\n",
       "</table>\n",
       "</div>"
      ],
      "text/plain": [
       "       country  CO2_cumul_diff  CO2_class  GDP_cumul_diff GDP_class\n",
       "0  Afghanistan           0.261        low           600.0  very_low\n",
       "1      Albania           1.181       high          8150.0      high\n",
       "2      Algeria           3.226  very_high          8190.0      high"
      ]
     },
     "execution_count": 759,
     "metadata": {},
     "output_type": "execute_result"
    }
   ],
   "source": [
    "df_CO2_GDP.head(3)"
   ]
  },
  {
   "cell_type": "markdown",
   "metadata": {},
   "source": [
    "**3.4.**  Calculating the $Green$ $Economy$ $Index$"
   ]
  },
  {
   "cell_type": "code",
   "execution_count": 760,
   "metadata": {},
   "outputs": [],
   "source": [
    "# Creating the dataframes that will give a weight (score) for 'df_CO2_GDP' and 'df_CO2_CO2' categories\n",
    "CO2_green_score = pd.DataFrame({'CO2_class':['very_high' ,'high', 'low', 'very_low'], 'CO2_green_score': [1, 2, 3, 4]})\n",
    "GDP_green_score = pd.DataFrame({'GDP_class':['very_high' ,'high', 'low', 'very_low'], 'GDP_green_score': [4, 3, 2, 1]})"
   ]
  },
  {
   "cell_type": "code",
   "execution_count": 761,
   "metadata": {},
   "outputs": [],
   "source": [
    "# Merging the 'CO2_green_score' into 'df_CO2_GDP' dataframe\n",
    "df_CO2_GDP = df_CO2_GDP.merge(CO2_green_score, left_on='CO2_class', right_on='CO2_class', how='inner')"
   ]
  },
  {
   "cell_type": "code",
   "execution_count": 762,
   "metadata": {},
   "outputs": [],
   "source": [
    "# Merging the 'GDP_green_score' into 'df_CO2_GDP' dataframe\n",
    "df_CO2_GDP = df_CO2_GDP.merge(GDP_green_score, left_on='GDP_class', right_on='GDP_class', how='inner')"
   ]
  },
  {
   "cell_type": "code",
   "execution_count": 763,
   "metadata": {},
   "outputs": [
    {
     "data": {
      "text/html": [
       "<div>\n",
       "<style scoped>\n",
       "    .dataframe tbody tr th:only-of-type {\n",
       "        vertical-align: middle;\n",
       "    }\n",
       "\n",
       "    .dataframe tbody tr th {\n",
       "        vertical-align: top;\n",
       "    }\n",
       "\n",
       "    .dataframe thead th {\n",
       "        text-align: right;\n",
       "    }\n",
       "</style>\n",
       "<table border=\"1\" class=\"dataframe\">\n",
       "  <thead>\n",
       "    <tr style=\"text-align: right;\">\n",
       "      <th></th>\n",
       "      <th>country</th>\n",
       "      <th>CO2_cumul_diff</th>\n",
       "      <th>CO2_class</th>\n",
       "      <th>GDP_cumul_diff</th>\n",
       "      <th>GDP_class</th>\n",
       "      <th>CO2_green_score</th>\n",
       "      <th>GDP_green_score</th>\n",
       "    </tr>\n",
       "  </thead>\n",
       "  <tbody>\n",
       "    <tr>\n",
       "      <th>0</th>\n",
       "      <td>Afghanistan</td>\n",
       "      <td>0.26100</td>\n",
       "      <td>low</td>\n",
       "      <td>600.0</td>\n",
       "      <td>very_low</td>\n",
       "      <td>3</td>\n",
       "      <td>1</td>\n",
       "    </tr>\n",
       "    <tr>\n",
       "      <th>1</th>\n",
       "      <td>Benin</td>\n",
       "      <td>0.56140</td>\n",
       "      <td>low</td>\n",
       "      <td>840.0</td>\n",
       "      <td>very_low</td>\n",
       "      <td>3</td>\n",
       "      <td>1</td>\n",
       "    </tr>\n",
       "    <tr>\n",
       "      <th>2</th>\n",
       "      <td>Burkina Faso</td>\n",
       "      <td>0.16122</td>\n",
       "      <td>low</td>\n",
       "      <td>906.0</td>\n",
       "      <td>very_low</td>\n",
       "      <td>3</td>\n",
       "      <td>1</td>\n",
       "    </tr>\n",
       "  </tbody>\n",
       "</table>\n",
       "</div>"
      ],
      "text/plain": [
       "        country  CO2_cumul_diff CO2_class  GDP_cumul_diff GDP_class  \\\n",
       "0   Afghanistan         0.26100       low           600.0  very_low   \n",
       "1         Benin         0.56140       low           840.0  very_low   \n",
       "2  Burkina Faso         0.16122       low           906.0  very_low   \n",
       "\n",
       "   CO2_green_score  GDP_green_score  \n",
       "0                3                1  \n",
       "1                3                1  \n",
       "2                3                1  "
      ]
     },
     "execution_count": 763,
     "metadata": {},
     "output_type": "execute_result"
    }
   ],
   "source": [
    "df_CO2_GDP.head(3)"
   ]
  },
  {
   "cell_type": "markdown",
   "metadata": {},
   "source": [
    ">$Green$ $Economy$ $Index$ $=$ $CO2$ green_score $+$ $GDP$ green_score"
   ]
  },
  {
   "cell_type": "code",
   "execution_count": 764,
   "metadata": {},
   "outputs": [],
   "source": [
    "# Creating the 'Green Economy Index' column on the 'df_CO2_GDP' dataframe\n",
    "df_CO2_GDP['green_economy_index'] = df_CO2_GDP['CO2_green_score'] + df_CO2_GDP['GDP_green_score']"
   ]
  },
  {
   "cell_type": "code",
   "execution_count": 765,
   "metadata": {},
   "outputs": [
    {
     "data": {
      "text/html": [
       "<div>\n",
       "<style scoped>\n",
       "    .dataframe tbody tr th:only-of-type {\n",
       "        vertical-align: middle;\n",
       "    }\n",
       "\n",
       "    .dataframe tbody tr th {\n",
       "        vertical-align: top;\n",
       "    }\n",
       "\n",
       "    .dataframe thead th {\n",
       "        text-align: right;\n",
       "    }\n",
       "</style>\n",
       "<table border=\"1\" class=\"dataframe\">\n",
       "  <thead>\n",
       "    <tr style=\"text-align: right;\">\n",
       "      <th></th>\n",
       "      <th>country</th>\n",
       "      <th>CO2_cumul_diff</th>\n",
       "      <th>CO2_class</th>\n",
       "      <th>GDP_cumul_diff</th>\n",
       "      <th>GDP_class</th>\n",
       "      <th>CO2_green_score</th>\n",
       "      <th>GDP_green_score</th>\n",
       "      <th>green_economy_index</th>\n",
       "    </tr>\n",
       "  </thead>\n",
       "  <tbody>\n",
       "    <tr>\n",
       "      <th>178</th>\n",
       "      <td>Andorra</td>\n",
       "      <td>-1.059600</td>\n",
       "      <td>very_low</td>\n",
       "      <td>31900.0</td>\n",
       "      <td>very_high</td>\n",
       "      <td>4</td>\n",
       "      <td>4</td>\n",
       "      <td>8</td>\n",
       "    </tr>\n",
       "    <tr>\n",
       "      <th>179</th>\n",
       "      <td>Belgium</td>\n",
       "      <td>-1.370000</td>\n",
       "      <td>very_low</td>\n",
       "      <td>29500.0</td>\n",
       "      <td>very_high</td>\n",
       "      <td>4</td>\n",
       "      <td>4</td>\n",
       "      <td>8</td>\n",
       "    </tr>\n",
       "    <tr>\n",
       "      <th>180</th>\n",
       "      <td>Czech Republic</td>\n",
       "      <td>-0.670000</td>\n",
       "      <td>very_low</td>\n",
       "      <td>18400.0</td>\n",
       "      <td>very_high</td>\n",
       "      <td>4</td>\n",
       "      <td>4</td>\n",
       "      <td>8</td>\n",
       "    </tr>\n",
       "    <tr>\n",
       "      <th>181</th>\n",
       "      <td>Denmark</td>\n",
       "      <td>-0.020000</td>\n",
       "      <td>very_low</td>\n",
       "      <td>31000.0</td>\n",
       "      <td>very_high</td>\n",
       "      <td>4</td>\n",
       "      <td>4</td>\n",
       "      <td>8</td>\n",
       "    </tr>\n",
       "    <tr>\n",
       "      <th>182</th>\n",
       "      <td>France</td>\n",
       "      <td>-1.220000</td>\n",
       "      <td>very_low</td>\n",
       "      <td>26800.0</td>\n",
       "      <td>very_high</td>\n",
       "      <td>4</td>\n",
       "      <td>4</td>\n",
       "      <td>8</td>\n",
       "    </tr>\n",
       "    <tr>\n",
       "      <th>183</th>\n",
       "      <td>Germany</td>\n",
       "      <td>-1.570000</td>\n",
       "      <td>very_low</td>\n",
       "      <td>30600.0</td>\n",
       "      <td>very_high</td>\n",
       "      <td>4</td>\n",
       "      <td>4</td>\n",
       "      <td>8</td>\n",
       "    </tr>\n",
       "    <tr>\n",
       "      <th>184</th>\n",
       "      <td>Iceland</td>\n",
       "      <td>-0.450000</td>\n",
       "      <td>very_low</td>\n",
       "      <td>30400.0</td>\n",
       "      <td>very_high</td>\n",
       "      <td>4</td>\n",
       "      <td>4</td>\n",
       "      <td>8</td>\n",
       "    </tr>\n",
       "    <tr>\n",
       "      <th>185</th>\n",
       "      <td>Luxembourg</td>\n",
       "      <td>-15.100000</td>\n",
       "      <td>very_low</td>\n",
       "      <td>72100.0</td>\n",
       "      <td>very_high</td>\n",
       "      <td>4</td>\n",
       "      <td>4</td>\n",
       "      <td>8</td>\n",
       "    </tr>\n",
       "    <tr>\n",
       "      <th>186</th>\n",
       "      <td>Slovak Republic</td>\n",
       "      <td>-1.740000</td>\n",
       "      <td>very_low</td>\n",
       "      <td>19250.0</td>\n",
       "      <td>very_high</td>\n",
       "      <td>4</td>\n",
       "      <td>4</td>\n",
       "      <td>8</td>\n",
       "    </tr>\n",
       "    <tr>\n",
       "      <th>187</th>\n",
       "      <td>Slovenia</td>\n",
       "      <td>-1.250000</td>\n",
       "      <td>very_low</td>\n",
       "      <td>21540.0</td>\n",
       "      <td>very_high</td>\n",
       "      <td>4</td>\n",
       "      <td>4</td>\n",
       "      <td>8</td>\n",
       "    </tr>\n",
       "    <tr>\n",
       "      <th>188</th>\n",
       "      <td>Sweden</td>\n",
       "      <td>-1.220000</td>\n",
       "      <td>very_low</td>\n",
       "      <td>30200.0</td>\n",
       "      <td>very_high</td>\n",
       "      <td>4</td>\n",
       "      <td>4</td>\n",
       "      <td>8</td>\n",
       "    </tr>\n",
       "    <tr>\n",
       "      <th>189</th>\n",
       "      <td>United Arab Emirates</td>\n",
       "      <td>-6.619643</td>\n",
       "      <td>very_low</td>\n",
       "      <td>62690.0</td>\n",
       "      <td>very_high</td>\n",
       "      <td>4</td>\n",
       "      <td>4</td>\n",
       "      <td>8</td>\n",
       "    </tr>\n",
       "    <tr>\n",
       "      <th>190</th>\n",
       "      <td>United Kingdom</td>\n",
       "      <td>-4.240000</td>\n",
       "      <td>very_low</td>\n",
       "      <td>25200.0</td>\n",
       "      <td>very_high</td>\n",
       "      <td>4</td>\n",
       "      <td>4</td>\n",
       "      <td>8</td>\n",
       "    </tr>\n",
       "  </tbody>\n",
       "</table>\n",
       "</div>"
      ],
      "text/plain": [
       "                  country  CO2_cumul_diff CO2_class  GDP_cumul_diff  \\\n",
       "178               Andorra       -1.059600  very_low         31900.0   \n",
       "179               Belgium       -1.370000  very_low         29500.0   \n",
       "180        Czech Republic       -0.670000  very_low         18400.0   \n",
       "181               Denmark       -0.020000  very_low         31000.0   \n",
       "182                France       -1.220000  very_low         26800.0   \n",
       "183               Germany       -1.570000  very_low         30600.0   \n",
       "184               Iceland       -0.450000  very_low         30400.0   \n",
       "185            Luxembourg      -15.100000  very_low         72100.0   \n",
       "186       Slovak Republic       -1.740000  very_low         19250.0   \n",
       "187              Slovenia       -1.250000  very_low         21540.0   \n",
       "188                Sweden       -1.220000  very_low         30200.0   \n",
       "189  United Arab Emirates       -6.619643  very_low         62690.0   \n",
       "190        United Kingdom       -4.240000  very_low         25200.0   \n",
       "\n",
       "     GDP_class  CO2_green_score  GDP_green_score  green_economy_index  \n",
       "178  very_high                4                4                    8  \n",
       "179  very_high                4                4                    8  \n",
       "180  very_high                4                4                    8  \n",
       "181  very_high                4                4                    8  \n",
       "182  very_high                4                4                    8  \n",
       "183  very_high                4                4                    8  \n",
       "184  very_high                4                4                    8  \n",
       "185  very_high                4                4                    8  \n",
       "186  very_high                4                4                    8  \n",
       "187  very_high                4                4                    8  \n",
       "188  very_high                4                4                    8  \n",
       "189  very_high                4                4                    8  \n",
       "190  very_high                4                4                    8  "
      ]
     },
     "execution_count": 765,
     "metadata": {},
     "output_type": "execute_result"
    }
   ],
   "source": [
    "df_CO2_GDP.query('green_economy_index == 8')"
   ]
  },
  {
   "cell_type": "markdown",
   "metadata": {},
   "source": [
    "### What is the total balance of CO² emissions?"
   ]
  },
  {
   "cell_type": "markdown",
   "metadata": {},
   "source": [
    "**3.5.** To answer this question I calculated the sum of the accumulated difference of CO² Emissions for each `CO2_class`, so we can understand how each category interferes on the total result. I used these variables on the bar plot on the Conclusions."
   ]
  },
  {
   "cell_type": "code",
   "execution_count": 766,
   "metadata": {},
   "outputs": [],
   "source": [
    "# Calculating the mean accumulated CO2 emissions of each 'CO2_class'\n",
    "\n",
    "# Querying the dataframes of each 'CO2_class' category \n",
    "very_low_CO2 = df_CO2_cum_diff.query('CO2_class == \"very_low\"')\n",
    "low_CO2 = df_CO2_cum_diff.query('CO2_class == \"low\"')\n",
    "high_CO2 = df_CO2_cum_diff.query('CO2_class == \"high\"')\n",
    "very_high_CO2 = df_CO2_cum_diff.query('CO2_class == \"very_high\"')\n",
    "\n",
    "# Getting the mean of each 'CO2_cumul_diff' category\n",
    "very_low_sum_CO2 = very_low_CO2['CO2_cumul_diff'].sum()\n",
    "low_sum_CO2 = low_CO2['CO2_cumul_diff'].sum()\n",
    "high_sum_CO2 = high_CO2['CO2_cumul_diff'].sum()\n",
    "very_high_sum_CO2 = very_high_CO2['CO2_cumul_diff'].sum()"
   ]
  },
  {
   "cell_type": "code",
   "execution_count": 767,
   "metadata": {},
   "outputs": [
    {
     "data": {
      "image/png": "[encoded data removed]",
      "text/plain": [
       "<Figure size 432x288 with 1 Axes>"
      ]
     },
     "metadata": {
      "needs_background": "light"
     },
     "output_type": "display_data"
    }
   ],
   "source": [
    "# Creating a bar plot to see the Balance of CO² Emissions\n",
    "locations_CO2 = [1, 2, 3, 4]\n",
    "heights_CO2 = [very_low_sum_CO2, low_sum_CO2, high_sum_CO2, very_high_sum_CO2]\n",
    "labels_CO2 = ['Very low', 'Low', 'High', 'Very High']\n",
    "plt.bar(locations_CO2, heights_CO2, tick_label=labels_CO2)\n",
    "plt.title('Total CO² emissions (tonnes per person, from 1958 to 2014) by category')\n",
    "plt.xlabel('CO² emissions category')\n",
    "plt.ylabel('Total Accumulated CO² Emissions');"
   ]
  },
  {
   "cell_type": "code",
   "execution_count": 768,
   "metadata": {},
   "outputs": [
    {
     "data": {
      "text/plain": [
       "360"
      ]
     },
     "execution_count": 768,
     "metadata": {},
     "output_type": "execute_result"
    }
   ],
   "source": [
    "# Calculating the CO² Balance of the 190 countries from 1958 to 2014 \n",
    "int(heights_CO2[0] + heights_CO2[1] + heights_CO2[2] + heights_CO2[3])"
   ]
  },
  {
   "cell_type": "code",
   "execution_count": 769,
   "metadata": {},
   "outputs": [],
   "source": [
    "# Counting the number of countries on each Green Economy Index\n",
    "df_CO2_GDP_8 = df_CO2_GDP.query('green_economy_index == \"8\"').country.nunique()\n",
    "df_CO2_GDP_7 = df_CO2_GDP.query('green_economy_index == \"7\"').country.nunique()\n",
    "df_CO2_GDP_6 = df_CO2_GDP.query('green_economy_index == \"6\"').country.nunique()\n",
    "df_CO2_GDP_5 = df_CO2_GDP.query('green_economy_index == \"5\"').country.nunique()\n",
    "df_CO2_GDP_4 = df_CO2_GDP.query('green_economy_index == \"4\"').country.nunique()\n",
    "df_CO2_GDP_3 = df_CO2_GDP.query('green_economy_index == \"3\"').country.nunique()"
   ]
  },
  {
   "cell_type": "code",
   "execution_count": 770,
   "metadata": {},
   "outputs": [
    {
     "data": {
      "image/png": "[encoded data removed]",
      "text/plain": [
       "<Figure size 432x288 with 1 Axes>"
      ]
     },
     "metadata": {},
     "output_type": "display_data"
    }
   ],
   "source": [
    "# Creating a pie plot with the number of countries on each Green Economy Index\n",
    "pie_labels = ['Green Economy Index 8', 'Green Economy Index 7', 'Green Economy Index 6', 'Green Economy Index 5', \\\n",
    "              'Green Economy Index 4', 'Green Economy Index 3']\n",
    "colors = ['b', 'g', 'r', 'c', 'm', 'y']\n",
    "tuple_values = df_CO2_GDP_8, df_CO2_GDP_7, df_CO2_GDP_6, df_CO2_GDP_5, df_CO2_GDP_4, df_CO2_GDP_3\n",
    "pie_values = list(tuple_values)\n",
    "plt.axis(\"equal\")\n",
    "plt.pie(pie_values, colors=colors, radius=2, autopct='%0.1f%%', explode=[0.5, 0, 0, 0, 0, 0], labels=tuple_values)\n",
    "plt.title('Number of countries \\non each Green Economy Index\\n and their participation on the total', \\\n",
    "          bbox={'facecolor':'0.9', 'pad':6})\n",
    "plt.legend(pie_labels,loc=3)\n",
    "plt.show()"
   ]
  },
  {
   "cell_type": "markdown",
   "metadata": {},
   "source": [
    "### Is there any relatonship between CO² emissions, GDP, Exports, Agricultural land size and Population density?"
   ]
  },
  {
   "cell_type": "markdown",
   "metadata": {},
   "source": [
    "**3.6.** To be able to create a correlation matrix I merged all the 5 dataframes created on **Section 2.6**"
   ]
  },
  {
   "cell_type": "code",
   "execution_count": 771,
   "metadata": {},
   "outputs": [],
   "source": [
    "# As Population has the higher number of countries (195), it is going to be the base of the merge \n",
    "# for all the other dataframes. I merged all the dataframes at once using Python's functools.reduce()\n",
    "\n",
    "# Importing reduce function from functools module\n",
    "from functools import reduce\n",
    "\n",
    "# First, I created a list with all the dataframes that I want to merge\n",
    "df_correl_list = [df_correl_pop, df_correl_CO2, df_correl_GDP, df_correl_agri, df_correl_expo]\n",
    "\n",
    "# Then I used reduce() and a lambda function to iterate over and merge each dataframe on the list\n",
    "df_correl_final = reduce(lambda left,right: pd.merge(left,right,on='country'), df_correl_list)"
   ]
  },
  {
   "cell_type": "code",
   "execution_count": 772,
   "metadata": {},
   "outputs": [
    {
     "data": {
      "text/html": [
       "<div>\n",
       "<style scoped>\n",
       "    .dataframe tbody tr th:only-of-type {\n",
       "        vertical-align: middle;\n",
       "    }\n",
       "\n",
       "    .dataframe tbody tr th {\n",
       "        vertical-align: top;\n",
       "    }\n",
       "\n",
       "    .dataframe thead th {\n",
       "        text-align: right;\n",
       "    }\n",
       "</style>\n",
       "<table border=\"1\" class=\"dataframe\">\n",
       "  <thead>\n",
       "    <tr style=\"text-align: right;\">\n",
       "      <th></th>\n",
       "      <th>country</th>\n",
       "      <th>population_density</th>\n",
       "      <th>CO2</th>\n",
       "      <th>GDP</th>\n",
       "      <th>agric_land_size</th>\n",
       "      <th>exports_GDP_perc</th>\n",
       "    </tr>\n",
       "  </thead>\n",
       "  <tbody>\n",
       "    <tr>\n",
       "      <th>53</th>\n",
       "      <td>Eritrea</td>\n",
       "      <td>47.0</td>\n",
       "      <td>0.147</td>\n",
       "      <td>1200</td>\n",
       "      <td>75.20</td>\n",
       "      <td>NaN</td>\n",
       "    </tr>\n",
       "    <tr>\n",
       "      <th>129</th>\n",
       "      <td>Papua New Guinea</td>\n",
       "      <td>17.1</td>\n",
       "      <td>0.815</td>\n",
       "      <td>2620</td>\n",
       "      <td>2.63</td>\n",
       "      <td>NaN</td>\n",
       "    </tr>\n",
       "    <tr>\n",
       "      <th>161</th>\n",
       "      <td>Syria</td>\n",
       "      <td>105.0</td>\n",
       "      <td>1.600</td>\n",
       "      <td>4300</td>\n",
       "      <td>75.80</td>\n",
       "      <td>NaN</td>\n",
       "    </tr>\n",
       "    <tr>\n",
       "      <th>170</th>\n",
       "      <td>Turkmenistan</td>\n",
       "      <td>11.6</td>\n",
       "      <td>12.500</td>\n",
       "      <td>14300</td>\n",
       "      <td>72.00</td>\n",
       "      <td>NaN</td>\n",
       "    </tr>\n",
       "  </tbody>\n",
       "</table>\n",
       "</div>"
      ],
      "text/plain": [
       "              country  population_density     CO2    GDP  agric_land_size  \\\n",
       "53            Eritrea                47.0   0.147   1200            75.20   \n",
       "129  Papua New Guinea                17.1   0.815   2620             2.63   \n",
       "161             Syria               105.0   1.600   4300            75.80   \n",
       "170      Turkmenistan                11.6  12.500  14300            72.00   \n",
       "\n",
       "     exports_GDP_perc  \n",
       "53                NaN  \n",
       "129               NaN  \n",
       "161               NaN  \n",
       "170               NaN  "
      ]
     },
     "execution_count": 772,
     "metadata": {},
     "output_type": "execute_result"
    }
   ],
   "source": [
    "# Showing the row with Null value, if there is any \n",
    "df_correl_final[df_correl_final.isna().any(axis=1)]"
   ]
  },
  {
   "cell_type": "code",
   "execution_count": 773,
   "metadata": {},
   "outputs": [],
   "source": [
    "# Removing Null values from the final dataframe\n",
    "df_correl_final = df_correl_final[df_correl_final.exports_GDP_perc.notnull()]"
   ]
  },
  {
   "cell_type": "code",
   "execution_count": 774,
   "metadata": {},
   "outputs": [
    {
     "data": {
      "text/html": [
       "<style  type=\"text/css\" >\n",
       "    #T_bdc2d70a_d802_11e9_ab00_641c677d4642row0_col0 {\n",
       "            background-color:  #b40426;\n",
       "            color:  #f1f1f1;\n",
       "        }    #T_bdc2d70a_d802_11e9_ab00_641c677d4642row0_col1 {\n",
       "            background-color:  #a1c0ff;\n",
       "            color:  #000000;\n",
       "        }    #T_bdc2d70a_d802_11e9_ab00_641c677d4642row0_col2 {\n",
       "            background-color:  #c6d6f1;\n",
       "            color:  #000000;\n",
       "        }    #T_bdc2d70a_d802_11e9_ab00_641c677d4642row0_col3 {\n",
       "            background-color:  #6485ec;\n",
       "            color:  #000000;\n",
       "        }    #T_bdc2d70a_d802_11e9_ab00_641c677d4642row0_col4 {\n",
       "            background-color:  #edd1c2;\n",
       "            color:  #000000;\n",
       "        }    #T_bdc2d70a_d802_11e9_ab00_641c677d4642row1_col0 {\n",
       "            background-color:  #a1c0ff;\n",
       "            color:  #000000;\n",
       "        }    #T_bdc2d70a_d802_11e9_ab00_641c677d4642row1_col1 {\n",
       "            background-color:  #b40426;\n",
       "            color:  #f1f1f1;\n",
       "        }    #T_bdc2d70a_d802_11e9_ab00_641c677d4642row1_col2 {\n",
       "            background-color:  #da5a49;\n",
       "            color:  #000000;\n",
       "        }    #T_bdc2d70a_d802_11e9_ab00_641c677d4642row1_col3 {\n",
       "            background-color:  #3c4ec2;\n",
       "            color:  #f1f1f1;\n",
       "        }    #T_bdc2d70a_d802_11e9_ab00_641c677d4642row1_col4 {\n",
       "            background-color:  #e8d6cc;\n",
       "            color:  #000000;\n",
       "        }    #T_bdc2d70a_d802_11e9_ab00_641c677d4642row2_col0 {\n",
       "            background-color:  #c6d6f1;\n",
       "            color:  #000000;\n",
       "        }    #T_bdc2d70a_d802_11e9_ab00_641c677d4642row2_col1 {\n",
       "            background-color:  #da5a49;\n",
       "            color:  #000000;\n",
       "        }    #T_bdc2d70a_d802_11e9_ab00_641c677d4642row2_col2 {\n",
       "            background-color:  #b40426;\n",
       "            color:  #f1f1f1;\n",
       "        }    #T_bdc2d70a_d802_11e9_ab00_641c677d4642row2_col3 {\n",
       "            background-color:  #3b4cc0;\n",
       "            color:  #f1f1f1;\n",
       "        }    #T_bdc2d70a_d802_11e9_ab00_641c677d4642row2_col4 {\n",
       "            background-color:  #f7b99e;\n",
       "            color:  #000000;\n",
       "        }    #T_bdc2d70a_d802_11e9_ab00_641c677d4642row3_col0 {\n",
       "            background-color:  #6485ec;\n",
       "            color:  #000000;\n",
       "        }    #T_bdc2d70a_d802_11e9_ab00_641c677d4642row3_col1 {\n",
       "            background-color:  #3c4ec2;\n",
       "            color:  #f1f1f1;\n",
       "        }    #T_bdc2d70a_d802_11e9_ab00_641c677d4642row3_col2 {\n",
       "            background-color:  #3b4cc0;\n",
       "            color:  #f1f1f1;\n",
       "        }    #T_bdc2d70a_d802_11e9_ab00_641c677d4642row3_col3 {\n",
       "            background-color:  #b40426;\n",
       "            color:  #f1f1f1;\n",
       "        }    #T_bdc2d70a_d802_11e9_ab00_641c677d4642row3_col4 {\n",
       "            background-color:  #465ecf;\n",
       "            color:  #f1f1f1;\n",
       "        }    #T_bdc2d70a_d802_11e9_ab00_641c677d4642row4_col0 {\n",
       "            background-color:  #edd1c2;\n",
       "            color:  #000000;\n",
       "        }    #T_bdc2d70a_d802_11e9_ab00_641c677d4642row4_col1 {\n",
       "            background-color:  #e8d6cc;\n",
       "            color:  #000000;\n",
       "        }    #T_bdc2d70a_d802_11e9_ab00_641c677d4642row4_col2 {\n",
       "            background-color:  #f7b99e;\n",
       "            color:  #000000;\n",
       "        }    #T_bdc2d70a_d802_11e9_ab00_641c677d4642row4_col3 {\n",
       "            background-color:  #465ecf;\n",
       "            color:  #f1f1f1;\n",
       "        }    #T_bdc2d70a_d802_11e9_ab00_641c677d4642row4_col4 {\n",
       "            background-color:  #b40426;\n",
       "            color:  #f1f1f1;\n",
       "        }</style><table id=\"T_bdc2d70a_d802_11e9_ab00_641c677d4642\" ><thead>    <tr>        <th class=\"blank level0\" ></th>        <th class=\"col_heading level0 col0\" >population_density</th>        <th class=\"col_heading level0 col1\" >CO2</th>        <th class=\"col_heading level0 col2\" >GDP</th>        <th class=\"col_heading level0 col3\" >agric_land_size</th>        <th class=\"col_heading level0 col4\" >exports_GDP_perc</th>    </tr></thead><tbody>\n",
       "                <tr>\n",
       "                        <th id=\"T_bdc2d70a_d802_11e9_ab00_641c677d4642level0_row0\" class=\"row_heading level0 row0\" >population_density</th>\n",
       "                        <td id=\"T_bdc2d70a_d802_11e9_ab00_641c677d4642row0_col0\" class=\"data row0 col0\" >1</td>\n",
       "                        <td id=\"T_bdc2d70a_d802_11e9_ab00_641c677d4642row0_col1\" class=\"data row0 col1\" >0.116559</td>\n",
       "                        <td id=\"T_bdc2d70a_d802_11e9_ab00_641c677d4642row0_col2\" class=\"data row0 col2\" >0.2626</td>\n",
       "                        <td id=\"T_bdc2d70a_d802_11e9_ab00_641c677d4642row0_col3\" class=\"data row0 col3\" >-0.104163</td>\n",
       "                        <td id=\"T_bdc2d70a_d802_11e9_ab00_641c677d4642row0_col4\" class=\"data row0 col4\" >0.45364</td>\n",
       "            </tr>\n",
       "            <tr>\n",
       "                        <th id=\"T_bdc2d70a_d802_11e9_ab00_641c677d4642level0_row1\" class=\"row_heading level0 row1\" >CO2</th>\n",
       "                        <td id=\"T_bdc2d70a_d802_11e9_ab00_641c677d4642row1_col0\" class=\"data row1 col0\" >0.116559</td>\n",
       "                        <td id=\"T_bdc2d70a_d802_11e9_ab00_641c677d4642row1_col1\" class=\"data row1 col1\" >1</td>\n",
       "                        <td id=\"T_bdc2d70a_d802_11e9_ab00_641c677d4642row1_col2\" class=\"data row1 col2\" >0.853243</td>\n",
       "                        <td id=\"T_bdc2d70a_d802_11e9_ab00_641c677d4642row1_col3\" class=\"data row1 col3\" >-0.265577</td>\n",
       "                        <td id=\"T_bdc2d70a_d802_11e9_ab00_641c677d4642row1_col4\" class=\"data row1 col4\" >0.418564</td>\n",
       "            </tr>\n",
       "            <tr>\n",
       "                        <th id=\"T_bdc2d70a_d802_11e9_ab00_641c677d4642level0_row2\" class=\"row_heading level0 row2\" >GDP</th>\n",
       "                        <td id=\"T_bdc2d70a_d802_11e9_ab00_641c677d4642row2_col0\" class=\"data row2 col0\" >0.2626</td>\n",
       "                        <td id=\"T_bdc2d70a_d802_11e9_ab00_641c677d4642row2_col1\" class=\"data row2 col1\" >0.853243</td>\n",
       "                        <td id=\"T_bdc2d70a_d802_11e9_ab00_641c677d4642row2_col2\" class=\"data row2 col2\" >1</td>\n",
       "                        <td id=\"T_bdc2d70a_d802_11e9_ab00_641c677d4642row2_col3\" class=\"data row2 col3\" >-0.274506</td>\n",
       "                        <td id=\"T_bdc2d70a_d802_11e9_ab00_641c677d4642row2_col4\" class=\"data row2 col4\" >0.570828</td>\n",
       "            </tr>\n",
       "            <tr>\n",
       "                        <th id=\"T_bdc2d70a_d802_11e9_ab00_641c677d4642level0_row3\" class=\"row_heading level0 row3\" >agric_land_size</th>\n",
       "                        <td id=\"T_bdc2d70a_d802_11e9_ab00_641c677d4642row3_col0\" class=\"data row3 col0\" >-0.104163</td>\n",
       "                        <td id=\"T_bdc2d70a_d802_11e9_ab00_641c677d4642row3_col1\" class=\"data row3 col1\" >-0.265577</td>\n",
       "                        <td id=\"T_bdc2d70a_d802_11e9_ab00_641c677d4642row3_col2\" class=\"data row3 col2\" >-0.274506</td>\n",
       "                        <td id=\"T_bdc2d70a_d802_11e9_ab00_641c677d4642row3_col3\" class=\"data row3 col3\" >1</td>\n",
       "                        <td id=\"T_bdc2d70a_d802_11e9_ab00_641c677d4642row3_col4\" class=\"data row3 col4\" >-0.21975</td>\n",
       "            </tr>\n",
       "            <tr>\n",
       "                        <th id=\"T_bdc2d70a_d802_11e9_ab00_641c677d4642level0_row4\" class=\"row_heading level0 row4\" >exports_GDP_perc</th>\n",
       "                        <td id=\"T_bdc2d70a_d802_11e9_ab00_641c677d4642row4_col0\" class=\"data row4 col0\" >0.45364</td>\n",
       "                        <td id=\"T_bdc2d70a_d802_11e9_ab00_641c677d4642row4_col1\" class=\"data row4 col1\" >0.418564</td>\n",
       "                        <td id=\"T_bdc2d70a_d802_11e9_ab00_641c677d4642row4_col2\" class=\"data row4 col2\" >0.570828</td>\n",
       "                        <td id=\"T_bdc2d70a_d802_11e9_ab00_641c677d4642row4_col3\" class=\"data row4 col3\" >-0.21975</td>\n",
       "                        <td id=\"T_bdc2d70a_d802_11e9_ab00_641c677d4642row4_col4\" class=\"data row4 col4\" >1</td>\n",
       "            </tr>\n",
       "    </tbody></table>"
      ],
      "text/plain": [
       "<pandas.io.formats.style.Styler at 0x1b6758e7470>"
      ]
     },
     "execution_count": 774,
     "metadata": {},
     "output_type": "execute_result"
    }
   ],
   "source": [
    "# Creating the correlation matrix\n",
    "corr = df_correl_final.corr()\n",
    "corr.style.background_gradient(cmap='coolwarm', axis=None)"
   ]
  },
  {
   "cell_type": "markdown",
   "metadata": {},
   "source": [
    "<a id='conclusions'></a>\n",
    "\n",
    "## Conclusions"
   ]
  },
  {
   "cell_type": "markdown",
   "metadata": {},
   "source": [
    "**Here are the conclusions of the analysis:**\n",
    "\n",
    "1. As explained on the Introduction, the best `green_economy_index` are those with the combination of **very_low** `CO2_class` and **very_high** `GDP_class`, and represent the **countries with the less usage of fossil fuels on their gross domestic production**.\n",
    "\n",
    "2. Out of 190 countries on the dataset available, there are **13 countries** with the **Top Green Economy Index (8)**. \n",
    "\n",
    "3. 12 of those 13 are European countries, the only exception is United Arab Emirates.\n",
    "\n",
    "4. Those **13 countries with the top Green Economy Index (8)** represent **6,8% of the total 190 countries** on the dataset.\n",
    "\n",
    "5. The **Total Balance** from the 190 countries was **360 tonnes of CO² per person**, between 1958 and 2014. \n",
    "\n",
    "6. The 'very low' countries counterbalances the effect of the 'low' and most part of the 'high' CO² emission countries, but we still have a large contribution of the 'very high' countries, which hold the large positive balance at the end.\n",
    "\n",
    "7. Based on 2014 data, CO² emissions are highly correlated with GDP per capita (0.85) and have a medium correlation with Exportation - \\% of GDP (0.41)"
   ]
  },
  {
   "cell_type": "markdown",
   "metadata": {},
   "source": [
    "**Limitations of the analysis:**\n",
    "\n",
    "CO2 emissions dataset considers only fossil fuel emissions, it does not take into consideration the other sources of dioxide emissions like livestock, deforestation and electricity production."
   ]
  }
 ],
 "metadata": {
  "kernelspec": {
   "display_name": "Python 3",
   "language": "python",
   "name": "python3"
  },
  "language_info": {
   "codemirror_mode": {
    "name": "ipython",
    "version": 3
   },
   "file_extension": ".py",
   "mimetype": "text/x-python",
   "name": "python",
   "nbconvert_exporter": "python",
   "pygments_lexer": "ipython3",
   "version": "3.6.9"
  }
 },
 "nbformat": 4,
 "nbformat_minor": 2
}
